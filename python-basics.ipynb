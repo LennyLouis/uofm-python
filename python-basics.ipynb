{
 "cells": [
  {
   "cell_type": "code",
   "execution_count": 2,
   "id": "1d8916c2-ed30-4a53-8d12-d8d29eb7d702",
   "metadata": {},
   "outputs": [
    {
     "data": {
      "text/plain": [
       "24.6"
      ]
     },
     "execution_count": 2,
     "metadata": {},
     "output_type": "execute_result"
    }
   ],
   "source": [
    "import numpy as np\n",
    "\n",
    "ages = [12,45,1,9,56]\n",
    "\n",
    "np.mean(ages)"
   ]
  },
  {
   "cell_type": "code",
   "execution_count": 12,
   "id": "7a0df448",
   "metadata": {},
   "outputs": [
    {
     "name": "stdout",
     "output_type": "stream",
     "text": [
      "You must give $60.0\n"
     ]
    }
   ],
   "source": [
    "# define a function that computes the tip of a meal based on dollar and percent\n",
    "\n",
    "def tip_calc(dollar, percent=20):\n",
    "    price = dollar * (percent/100+1)\n",
    "    print(\"You must give $\" + str(price))\n",
    "    \n",
    "tip_calc(50, 20)"
   ]
  },
  {
   "cell_type": "code",
   "execution_count": 15,
   "id": "126a0a58",
   "metadata": {},
   "outputs": [
    {
     "name": "stdout",
     "output_type": "stream",
     "text": [
      "12yo aren't adults\n",
      "34yo are adults\n",
      "5yo aren't adults\n",
      "39yo are adults\n",
      "100yo are adults\n"
     ]
    }
   ],
   "source": [
    "# only print people who are adults\n",
    "\n",
    "ages = [12, 34, 5, 39, 100]\n",
    "\n",
    "for age in ages:\n",
    "    if age >=21:\n",
    "        print(str(age) + \"yo are adults\")\n",
    "    else:\n",
    "        print(str(age) + \"yo aren't adults\")\n",
    "        "
   ]
  },
  {
   "cell_type": "code",
   "execution_count": 16,
   "id": "c90532ac",
   "metadata": {},
   "outputs": [
    {
     "data": {
      "text/plain": [
       "[34, 39, 100]"
      ]
     },
     "execution_count": 16,
     "metadata": {},
     "output_type": "execute_result"
    }
   ],
   "source": [
    "# list comprehension\n",
    "\n",
    "[age for age in ages if age>= 18]"
   ]
  },
  {
   "cell_type": "code",
   "execution_count": 17,
   "id": "32431a68",
   "metadata": {},
   "outputs": [
    {
     "name": "stdout",
     "output_type": "stream",
     "text": [
      "7\n"
     ]
    }
   ],
   "source": [
    "a = 5\n",
    "b = 7\n",
    "\n",
    "print(max(a,b))"
   ]
  },
  {
   "cell_type": "code",
   "execution_count": 18,
   "id": "baded5a4",
   "metadata": {},
   "outputs": [
    {
     "name": "stdout",
     "output_type": "stream",
     "text": [
      "The Zen of Python, by Tim Peters\n",
      "\n",
      "Beautiful is better than ugly.\n",
      "Explicit is better than implicit.\n",
      "Simple is better than complex.\n",
      "Complex is better than complicated.\n",
      "Flat is better than nested.\n",
      "Sparse is better than dense.\n",
      "Readability counts.\n",
      "Special cases aren't special enough to break the rules.\n",
      "Although practicality beats purity.\n",
      "Errors should never pass silently.\n",
      "Unless explicitly silenced.\n",
      "In the face of ambiguity, refuse the temptation to guess.\n",
      "There should be one-- and preferably only one --obvious way to do it.\n",
      "Although that way may not be obvious at first unless you're Dutch.\n",
      "Now is better than never.\n",
      "Although never is often better than *right* now.\n",
      "If the implementation is hard to explain, it's a bad idea.\n",
      "If the implementation is easy to explain, it may be a good idea.\n",
      "Namespaces are one honking great idea -- let's do more of those!\n"
     ]
    }
   ],
   "source": [
    "import this"
   ]
  }
 ],
 "metadata": {
  "kernelspec": {
   "display_name": "Python 3 (ipykernel)",
   "language": "python",
   "name": "python3"
  },
  "language_info": {
   "codemirror_mode": {
    "name": "ipython",
    "version": 3
   },
   "file_extension": ".py",
   "mimetype": "text/x-python",
   "name": "python",
   "nbconvert_exporter": "python",
   "pygments_lexer": "ipython3",
   "version": "3.9.7"
  }
 },
 "nbformat": 4,
 "nbformat_minor": 5
}
