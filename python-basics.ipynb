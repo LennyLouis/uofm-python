{
 "cells": [
  {
   "cell_type": "markdown",
   "metadata": {},
   "source": [
    "# Python as an engineering tool\n",
    "## Python basics\n",
    "### U-M Dearborn\n",
    "#### Summer 2023\n",
    "\n",
    "Topics\n",
    "- Numbers\n",
    "- Strings\n",
    "- Lists\n",
    "\n",
    "Animals\n",
    "1. cats\n",
    "2. dogs\n",
    "3. tigers\n",
    "\n",
    "Please [click here](fenggroup.com) for my website"
   ]
  },
  {
   "cell_type": "code",
   "execution_count": 19,
   "metadata": {},
   "outputs": [
    {
     "name": "stdout",
     "output_type": "stream",
     "text": [
      "8.45\n"
     ]
    },
    {
     "data": {
      "text/plain": [
       "float"
      ]
     },
     "execution_count": 19,
     "metadata": {},
     "output_type": "execute_result"
    }
   ],
   "source": [
    "# Numbers\n",
    "\n",
    "a = 3.45    # floating number\n",
    "b = 5       # integer number\n",
    "c = a + b\n",
    "\n",
    "print(c)\n",
    "\n",
    "type(c)"
   ]
  },
  {
   "cell_type": "code",
   "execution_count": 20,
   "metadata": {},
   "outputs": [
    {
     "name": "stdout",
     "output_type": "stream",
     "text": [
      "18.88888888888889\n"
     ]
    }
   ],
   "source": [
    "# Using Python as a calculator\n",
    "\n",
    "x = (66 - 32) * 5/9\n",
    "\n",
    "print(x)"
   ]
  },
  {
   "cell_type": "code",
   "execution_count": 21,
   "metadata": {},
   "outputs": [
    {
     "name": "stdout",
     "output_type": "stream",
     "text": [
      "78.53975\n"
     ]
    }
   ],
   "source": [
    "# Area = pi * r^2\n",
    "\n",
    "pi = 3.14159\n",
    "r = 5\n",
    "area = pi * r**2\n",
    "\n",
    "print(area)"
   ]
  },
  {
   "cell_type": "code",
   "execution_count": 22,
   "metadata": {},
   "outputs": [
    {
     "data": {
      "text/plain": [
       "1"
      ]
     },
     "execution_count": 22,
     "metadata": {},
     "output_type": "execute_result"
    }
   ],
   "source": [
    "# Modulus: remainder of a division\n",
    "\n",
    "11 % 2"
   ]
  },
  {
   "cell_type": "code",
   "execution_count": 23,
   "metadata": {},
   "outputs": [
    {
     "name": "stdout",
     "output_type": "stream",
     "text": [
      "11\n",
      "13\n"
     ]
    }
   ],
   "source": [
    "# Variable names\n",
    "\n",
    "prime = 11\n",
    "Prime = 13\n",
    "\n",
    "print(prime)\n",
    "print(Prime)"
   ]
  },
  {
   "cell_type": "code",
   "execution_count": 24,
   "metadata": {},
   "outputs": [
    {
     "name": "stdout",
     "output_type": "stream",
     "text": [
      "Thierry Henry is a football player\n"
     ]
    },
    {
     "data": {
      "text/plain": [
       "['Thierry', 'Henry', 'is', 'a', 'football', 'player']"
      ]
     },
     "execution_count": 24,
     "metadata": {},
     "output_type": "execute_result"
    }
   ],
   "source": [
    "# Strings\n",
    "\n",
    "first_name = \"Thierry\"\n",
    "last_name = \"Henry\"\n",
    "\n",
    "sentence = first_name + \" \" + last_name + \" is a football player\"\n",
    "\n",
    "print(sentence)\n",
    "\n",
    "type(sentence)\n",
    "\n",
    "first_name[0]\n",
    "first_name[-1]\n",
    "first_name * 3\n",
    "first_name.lower()\n",
    "sentence.split()"
   ]
  },
  {
   "cell_type": "code",
   "execution_count": 25,
   "metadata": {},
   "outputs": [
    {
     "data": {
      "text/plain": [
       "bool"
      ]
     },
     "execution_count": 25,
     "metadata": {},
     "output_type": "execute_result"
    }
   ],
   "source": [
    "# Booleans\n",
    "\n",
    "is_monday = True\n",
    "is_monday = False\n",
    "\n",
    "type(is_monday)"
   ]
  },
  {
   "cell_type": "code",
   "execution_count": 26,
   "metadata": {},
   "outputs": [
    {
     "data": {
      "text/plain": [
       "list"
      ]
     },
     "execution_count": 26,
     "metadata": {},
     "output_type": "execute_result"
    }
   ],
   "source": [
    "squares = [1, 4, 9, 16, 25]\n",
    "\n",
    "names = [\"Sarah\", \"Tom\", \"Alex\"]\n",
    "\n",
    "type(squares)"
   ]
  },
  {
   "cell_type": "code",
   "execution_count": 27,
   "metadata": {},
   "outputs": [
    {
     "data": {
      "text/plain": [
       "[9, 16, 25]"
      ]
     },
     "execution_count": 27,
     "metadata": {},
     "output_type": "execute_result"
    }
   ],
   "source": [
    "squares[1]\n",
    "squares[-1]\n",
    "squares[0:3]\n",
    "squares[:3]\n",
    "squares[-3:]"
   ]
  },
  {
   "cell_type": "code",
   "execution_count": 28,
   "metadata": {},
   "outputs": [
    {
     "data": {
      "text/plain": [
       "[1, 4, 9, 16, 25, 36, 49]"
      ]
     },
     "execution_count": 28,
     "metadata": {},
     "output_type": "execute_result"
    }
   ],
   "source": [
    "squares + [36, 49]"
   ]
  },
  {
   "cell_type": "code",
   "execution_count": 29,
   "metadata": {},
   "outputs": [
    {
     "data": {
      "text/plain": [
       "['Sarah', 'Tom', 'Alex', 'John']"
      ]
     },
     "execution_count": 29,
     "metadata": {},
     "output_type": "execute_result"
    }
   ],
   "source": [
    "names.append(\"John\")\n",
    "names"
   ]
  },
  {
   "cell_type": "code",
   "execution_count": 30,
   "metadata": {},
   "outputs": [
    {
     "data": {
      "text/plain": [
       "4"
      ]
     },
     "execution_count": 30,
     "metadata": {},
     "output_type": "execute_result"
    }
   ],
   "source": [
    "len(names)"
   ]
  },
  {
   "cell_type": "code",
   "execution_count": 31,
   "metadata": {},
   "outputs": [
    {
     "data": {
      "text/plain": [
       "[1, 8, 27, 64, 125]"
      ]
     },
     "execution_count": 31,
     "metadata": {},
     "output_type": "execute_result"
    }
   ],
   "source": [
    "# We can also change a list's content (mutable)\n",
    "\n",
    "cubes = [1, 8, 27, 65, 125]\n",
    "\n",
    "cubes[3] = 4**3\n",
    "cubes"
   ]
  },
  {
   "cell_type": "code",
   "execution_count": 32,
   "metadata": {},
   "outputs": [
    {
     "data": {
      "text/plain": [
       "'c'"
      ]
     },
     "execution_count": 32,
     "metadata": {},
     "output_type": "execute_result"
    }
   ],
   "source": [
    "# It is possible to \"nest\" a list\n",
    "\n",
    "a = [\"a\", \"b\", \"c\"]\n",
    "n = [1, 2, 3, 4]\n",
    "\n",
    "x = [a, n]\n",
    "\n",
    "x[0][2]"
   ]
  },
  {
   "cell_type": "code",
   "execution_count": 33,
   "metadata": {},
   "outputs": [],
   "source": [
    "a_confusing_list = [12, \"sunday\", [\"cats\", 12.3]]"
   ]
  },
  {
   "cell_type": "code",
   "execution_count": 34,
   "metadata": {},
   "outputs": [
    {
     "data": {
      "text/plain": [
       "3"
      ]
     },
     "execution_count": 34,
     "metadata": {},
     "output_type": "execute_result"
    }
   ],
   "source": [
    "# Dictionary\n",
    "\n",
    "capitals = {\"France\": \"Paris\",\n",
    "            \"USA\": \"Washington DC\",\n",
    "            \"Canada\": \"Ottawa\"}\n",
    "\n",
    "type(capitals)\n",
    "\n",
    "capitals[\"USA\"]\n",
    "\n",
    "len(capitals)"
   ]
  },
  {
   "cell_type": "code",
   "execution_count": 35,
   "metadata": {},
   "outputs": [
    {
     "name": "stdout",
     "output_type": "stream",
     "text": [
      "Go blue!\n"
     ]
    },
    {
     "data": {
      "text/plain": [
       "4"
      ]
     },
     "execution_count": 35,
     "metadata": {},
     "output_type": "execute_result"
    }
   ],
   "source": [
    "# Functions\n",
    "\n",
    "print(\"Go blue!\")\n",
    "\n",
    "len(names)"
   ]
  },
  {
   "cell_type": "code",
   "execution_count": 36,
   "metadata": {},
   "outputs": [
    {
     "data": {
      "text/plain": [
       "11"
      ]
     },
     "execution_count": 36,
     "metadata": {},
     "output_type": "execute_result"
    }
   ],
   "source": [
    "a = [5, 6]\n",
    "\n",
    "sum(a)"
   ]
  },
  {
   "cell_type": "code",
   "execution_count": 37,
   "metadata": {},
   "outputs": [
    {
     "data": {
      "text/plain": [
       "3.14"
      ]
     },
     "execution_count": 37,
     "metadata": {},
     "output_type": "execute_result"
    }
   ],
   "source": [
    "round(3.14159)\n",
    "\n",
    "round(3.14159, 2)\n",
    "\n",
    "# Positional vs keyword arguments\n",
    "\n",
    "round(number=3.14159, ndigits=2)\n",
    "\n",
    "round(ndigits=2, number=3.14159)"
   ]
  },
  {
   "cell_type": "code",
   "execution_count": 38,
   "metadata": {},
   "outputs": [
    {
     "data": {
      "text/plain": [
       "datetime.date(2023, 5, 22)"
      ]
     },
     "execution_count": 38,
     "metadata": {},
     "output_type": "execute_result"
    }
   ],
   "source": [
    "import datetime\n",
    "\n",
    "datetime.date.today()"
   ]
  },
  {
   "cell_type": "code",
   "execution_count": 39,
   "metadata": {},
   "outputs": [
    {
     "data": {
      "text/plain": [
       "'c:\\\\Users\\\\adall\\\\Documents\\\\UofM\\\\Courses\\\\Python'"
      ]
     },
     "execution_count": 39,
     "metadata": {},
     "output_type": "execute_result"
    }
   ],
   "source": [
    "import os\n",
    "\n",
    "os.getcwd()"
   ]
  },
  {
   "cell_type": "code",
   "execution_count": 40,
   "metadata": {},
   "outputs": [
    {
     "data": {
      "text/plain": [
       "3.141592653589793"
      ]
     },
     "execution_count": 40,
     "metadata": {},
     "output_type": "execute_result"
    }
   ],
   "source": [
    "# Define custom functions\n",
    "\n",
    "import numpy as np\n",
    "\n",
    "def circle_area(r):\n",
    "    area = np.pi * r**2\n",
    "    return area\n",
    "\n",
    "circle_area(1)"
   ]
  },
  {
   "cell_type": "code",
   "execution_count": 41,
   "metadata": {},
   "outputs": [
    {
     "data": {
      "text/plain": [
       "2"
      ]
     },
     "execution_count": 41,
     "metadata": {},
     "output_type": "execute_result"
    }
   ],
   "source": [
    "def addition(a=1, b=1):\n",
    "    return a + b\n",
    "\n",
    "addition(a=1, b=3)\n",
    "\n",
    "addition()"
   ]
  },
  {
   "cell_type": "code",
   "execution_count": 42,
   "metadata": {},
   "outputs": [
    {
     "data": {
      "text/plain": [
       "5.0"
      ]
     },
     "execution_count": 42,
     "metadata": {},
     "output_type": "execute_result"
    }
   ],
   "source": [
    "np.sqrt(25)"
   ]
  },
  {
   "cell_type": "code",
   "execution_count": 43,
   "metadata": {},
   "outputs": [
    {
     "data": {
      "text/plain": [
       "2.718281828459045"
      ]
     },
     "execution_count": 43,
     "metadata": {},
     "output_type": "execute_result"
    }
   ],
   "source": [
    "np.exp(1)"
   ]
  },
  {
   "cell_type": "code",
   "execution_count": 44,
   "metadata": {},
   "outputs": [
    {
     "data": {
      "text/plain": [
       "1.0986122886681098"
      ]
     },
     "execution_count": 44,
     "metadata": {},
     "output_type": "execute_result"
    }
   ],
   "source": [
    "np.log(3)"
   ]
  },
  {
   "cell_type": "code",
   "execution_count": 45,
   "metadata": {},
   "outputs": [
    {
     "data": {
      "text/plain": [
       "6.0"
      ]
     },
     "execution_count": 45,
     "metadata": {},
     "output_type": "execute_result"
    }
   ],
   "source": [
    "np.log10(1_000_000)"
   ]
  },
  {
   "cell_type": "code",
   "execution_count": 46,
   "metadata": {},
   "outputs": [
    {
     "data": {
      "text/plain": [
       "24.684678108764825"
      ]
     },
     "execution_count": 46,
     "metadata": {},
     "output_type": "execute_result"
    }
   ],
   "source": [
    "ages = [12, 34, 14, 56, 23, 67, 89, 45, 23]\n",
    "\n",
    "np.mean(ages)\n",
    "np.median(ages)\n",
    "max(ages)\n",
    "min(ages)\n",
    "np.std(ages)"
   ]
  },
  {
   "cell_type": "code",
   "execution_count": 47,
   "metadata": {},
   "outputs": [
    {
     "name": "stdout",
     "output_type": "stream",
     "text": [
      "The tip amount is $20.0\n"
     ]
    }
   ],
   "source": [
    "# Define a function that computes the tip of a meal based on dollar and percent\n",
    "\n",
    "def tip(dollar, percent=0.2):\n",
    "    tip = dollar * percent\n",
    "    return tip\n",
    "\n",
    "tip_amount = tip(dollar=100)\n",
    "\n",
    "print(f\"The tip amount is ${tip_amount}\")"
   ]
  },
  {
   "cell_type": "code",
   "execution_count": 48,
   "metadata": {},
   "outputs": [
    {
     "data": {
      "text/plain": [
       "True"
      ]
     },
     "execution_count": 48,
     "metadata": {},
     "output_type": "execute_result"
    }
   ],
   "source": [
    "# Comparison operators\n",
    "\n",
    "4 < 5\n",
    "4 < 3\n",
    "4 >= 5\n",
    "4 == 4\n",
    "4 != 5"
   ]
  },
  {
   "cell_type": "code",
   "execution_count": 51,
   "metadata": {},
   "outputs": [
    {
     "data": {
      "text/plain": [
       "False"
      ]
     },
     "execution_count": 51,
     "metadata": {},
     "output_type": "execute_result"
    }
   ],
   "source": [
    "3 in [1, 2, 3, 4]\n",
    "3 not in [1, 2, 3, 4]\n",
    "\n",
    "names\n",
    "\n",
    "\"Tim\" in names"
   ]
  },
  {
   "cell_type": "code",
   "execution_count": 59,
   "metadata": {},
   "outputs": [
    {
     "name": "stdout",
     "output_type": "stream",
     "text": [
      "Boston Celtics won!\n"
     ]
    }
   ],
   "source": [
    "# If statements\n",
    "\n",
    "celtics = 120\n",
    "heat = 115\n",
    "\n",
    "if celtics > heat:\n",
    "    print(\"Boston Celtics won!\")\n",
    "elif celtics < heat:\n",
    "    print(\"Miami Heat won!\")\n",
    "else:\n",
    "    print(\"It's a tie!\")"
   ]
  },
  {
   "cell_type": "code",
   "execution_count": 65,
   "metadata": {},
   "outputs": [
    {
     "name": "stdout",
     "output_type": "stream",
     "text": [
      "23\n",
      "45\n",
      "89\n",
      "67\n",
      "23\n",
      "56\n",
      "14\n",
      "34\n",
      "12\n"
     ]
    }
   ],
   "source": [
    "# For loops\n",
    "\n",
    "for age in ages:\n",
    "    print(age)"
   ]
  },
  {
   "cell_type": "code",
   "execution_count": 67,
   "metadata": {},
   "outputs": [
    {
     "name": "stdout",
     "output_type": "stream",
     "text": [
      "12\n",
      "34\n",
      "14\n",
      "56\n",
      "23\n",
      "67\n",
      "89\n",
      "45\n",
      "23\n"
     ]
    }
   ],
   "source": [
    "for age in reversed(ages):\n",
    "    print(age)"
   ]
  },
  {
   "cell_type": "code",
   "execution_count": 75,
   "metadata": {},
   "outputs": [
    {
     "name": "stdout",
     "output_type": "stream",
     "text": [
      "0 --> 23\n",
      "1 --> 45\n",
      "2 --> 89\n",
      "3 --> 67\n",
      "4 --> 23\n",
      "5 --> 56\n",
      "6 --> 14\n",
      "7 --> 34\n",
      "8 --> 12\n"
     ]
    }
   ],
   "source": [
    "for i, age in enumerate(ages):\n",
    "    print(i, \"-->\", age)"
   ]
  },
  {
   "cell_type": "code",
   "execution_count": 84,
   "metadata": {},
   "outputs": [
    {
     "name": "stdout",
     "output_type": "stream",
     "text": [
      "I like 🍎\n",
      "I don't like 🍌\n",
      "I don't like 🍊\n",
      "I like 🍒\n"
     ]
    }
   ],
   "source": [
    "fruits = \"🍎 🍌 🍊 🍒\"\n",
    "\n",
    "fruits_i_like = \"🍒 🍎\"\n",
    "\n",
    "fruits.split()\n",
    "\n",
    "for fruit in fruits.split():\n",
    "    if fruit in fruits_i_like.split():\n",
    "        print(\"I like\", fruit)\n",
    "    else:\n",
    "        print(\"I don't like\", fruit)"
   ]
  },
  {
   "cell_type": "code",
   "execution_count": 86,
   "metadata": {},
   "outputs": [
    {
     "name": "stdout",
     "output_type": "stream",
     "text": [
      "23\n",
      "45\n",
      "89\n",
      "67\n",
      "23\n",
      "56\n",
      "34\n"
     ]
    }
   ],
   "source": [
    "# Only print people who are adults (age >= 18)\n",
    "\n",
    "for age in ages:\n",
    "    if age >= 18:\n",
    "        print(age)"
   ]
  },
  {
   "cell_type": "code",
   "execution_count": 88,
   "metadata": {},
   "outputs": [
    {
     "data": {
      "text/plain": [
       "[23, 45, 89, 67, 23, 56, 34]"
      ]
     },
     "execution_count": 88,
     "metadata": {},
     "output_type": "execute_result"
    }
   ],
   "source": [
    "# List comprehension\n",
    "\n",
    "[age for age in ages if age >= 18]"
   ]
  },
  {
   "cell_type": "code",
   "execution_count": 91,
   "metadata": {},
   "outputs": [
    {
     "data": {
      "text/plain": [
       "4"
      ]
     },
     "execution_count": 91,
     "metadata": {},
     "output_type": "execute_result"
    }
   ],
   "source": [
    "# Define a function that returns the bigger number between two numbers, a and b\n",
    "\n",
    "def bigger(a, b):\n",
    "    if a > b:\n",
    "        return a\n",
    "    else:\n",
    "        return b\n",
    "\n",
    "bigger(3, 4)"
   ]
  },
  {
   "cell_type": "code",
   "execution_count": 93,
   "metadata": {},
   "outputs": [
    {
     "data": {
      "text/plain": [
       "4"
      ]
     },
     "execution_count": 93,
     "metadata": {},
     "output_type": "execute_result"
    }
   ],
   "source": [
    "# Conditional (ternary) operator\n",
    "\n",
    "def bigger(a, b):\n",
    "    return a if a > b else b\n",
    "\n",
    "bigger(3, 4)"
   ]
  },
  {
   "cell_type": "code",
   "execution_count": 94,
   "metadata": {},
   "outputs": [
    {
     "name": "stdout",
     "output_type": "stream",
     "text": [
      "The Zen of Python, by Tim Peters\n",
      "\n",
      "Beautiful is better than ugly.\n",
      "Explicit is better than implicit.\n",
      "Simple is better than complex.\n",
      "Complex is better than complicated.\n",
      "Flat is better than nested.\n",
      "Sparse is better than dense.\n",
      "Readability counts.\n",
      "Special cases aren't special enough to break the rules.\n",
      "Although practicality beats purity.\n",
      "Errors should never pass silently.\n",
      "Unless explicitly silenced.\n",
      "In the face of ambiguity, refuse the temptation to guess.\n",
      "There should be one-- and preferably only one --obvious way to do it.\n",
      "Although that way may not be obvious at first unless you're Dutch.\n",
      "Now is better than never.\n",
      "Although never is often better than *right* now.\n",
      "If the implementation is hard to explain, it's a bad idea.\n",
      "If the implementation is easy to explain, it may be a good idea.\n",
      "Namespaces are one honking great idea -- let's do more of those!\n"
     ]
    }
   ],
   "source": [
    "import this"
   ]
  }
 ],
 "metadata": {
  "kernelspec": {
   "display_name": "Python 3 (ipykernel)",
   "language": "python",
   "name": "python3"
  },
  "language_info": {
   "codemirror_mode": {
    "name": "ipython",
    "version": 3
   },
   "file_extension": ".py",
   "mimetype": "text/x-python",
   "name": "python",
   "nbconvert_exporter": "python",
   "pygments_lexer": "ipython3",
   "version": "3.10.9"
  },
  "orig_nbformat": 4
 },
 "nbformat": 4,
 "nbformat_minor": 2
}
